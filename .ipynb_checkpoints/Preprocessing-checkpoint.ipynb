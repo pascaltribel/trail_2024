{
 "cells": [
  {
   "cell_type": "code",
   "execution_count": 36,
   "id": "33b5c5ce-b76c-44d3-a22c-6d24b0bb9df1",
   "metadata": {},
   "outputs": [],
   "source": [
    "import matplotlib.pyplot as plt\n",
    "import seaborn as sns\n",
    "import numpy as np\n",
    "import pandas as pd\n",
    "import scipy\n",
    "from datetime import datetime"
   ]
  },
  {
   "cell_type": "code",
   "execution_count": 37,
   "id": "3d583288-4084-4dba-b64c-e79813fe89c7",
   "metadata": {},
   "outputs": [],
   "source": [
    "filepath = \"Data/Belgium/ELIA/ods001.csv\""
   ]
  },
  {
   "cell_type": "code",
   "execution_count": 38,
   "id": "05c56522-9a43-493c-955e-aeafb9e4cef0",
   "metadata": {},
   "outputs": [],
   "source": [
    "data = pd.read_csv(filepath, delimiter=\";\")[749:][::-1].reset_index().drop(\"index\", axis=1)"
   ]
  },
  {
   "cell_type": "code",
   "execution_count": 39,
   "id": "31f3314b-48a7-4cfd-a38e-963acfb77e7f",
   "metadata": {},
   "outputs": [],
   "source": [
    "data[\"Datetime\"] = pd.to_datetime(data[\"Datetime\"], errors='coerce', utc=True)\n",
    "data[\"Datetime\"] = data[\"Datetime\"].dt.tz_convert(\"UTC\")"
   ]
  },
  {
   "cell_type": "code",
   "execution_count": 40,
   "id": "93d9685c-b17c-48fd-ac6c-e5f7578c9526",
   "metadata": {},
   "outputs": [],
   "source": [
    "data['Total Load'] = data['Total Load'].interpolate(method='linear')"
   ]
  },
  {
   "cell_type": "code",
   "execution_count": 41,
   "id": "e633a35d-6840-40da-ac70-cbccd294cbec",
   "metadata": {},
   "outputs": [],
   "source": [
    "data[\"Year\"] = [i.year for i in data[\"Datetime\"]]\n",
    "data[\"Month\"] = [i.month for i in data[\"Datetime\"]]\n",
    "data[\"Day\"] = [i.day for i in data[\"Datetime\"]]\n",
    "data[\"Hour\"] = [i.hour for i in data[\"Datetime\"]]\n",
    "data[\"Minute\"] = [i.minute for i in data[\"Datetime\"]]\n",
    "data[\"Season\"] = data[\"Month\"]//4"
   ]
  },
  {
   "cell_type": "markdown",
   "id": "bd682e4e-f1fa-4408-a783-758df6572a53",
   "metadata": {},
   "source": [
    "Lockdown dates:\n",
    "- 18/03/2020 -> 04/05/2020\n",
    "- 30/10/2020 -> 15/12/2020\n",
    "- 20/11/2020 -> 20/01/2022"
   ]
  },
  {
   "cell_type": "code",
   "execution_count": 42,
   "id": "0d2f6258-0fa3-451f-9f80-e72c1a798d40",
   "metadata": {},
   "outputs": [],
   "source": [
    "data[\"Lockdown\"] = 0"
   ]
  },
  {
   "cell_type": "code",
   "execution_count": 43,
   "id": "130f2b86-9ec7-44c9-9834-5c2edb1ed838",
   "metadata": {},
   "outputs": [],
   "source": [
    "data.loc[182784:187296, \"Lockdown\"] = 1\n",
    "data.loc[204388:208804, \"Lockdown\"] = 1\n",
    "data.loc[212260:247300, \"Lockdown\"] = 1"
   ]
  },
  {
   "cell_type": "code",
   "execution_count": 44,
   "id": "6529a955-e0e3-47e8-aff1-1b84540262d2",
   "metadata": {},
   "outputs": [],
   "source": [
    "data[\"Difference with previous load\"] = [0] + list(np.array(data[\"Total Load\"][1:].to_list()) - np.array(data[\"Total Load\"][:-1].to_list()))"
   ]
  },
  {
   "cell_type": "code",
   "execution_count": 45,
   "id": "6b9d145c-90f7-41e1-b848-b41522c252bd",
   "metadata": {},
   "outputs": [
    {
     "data": {
      "text/html": [
       "<div>\n",
       "<style scoped>\n",
       "    .dataframe tbody tr th:only-of-type {\n",
       "        vertical-align: middle;\n",
       "    }\n",
       "\n",
       "    .dataframe tbody tr th {\n",
       "        vertical-align: top;\n",
       "    }\n",
       "\n",
       "    .dataframe thead th {\n",
       "        text-align: right;\n",
       "    }\n",
       "</style>\n",
       "<table border=\"1\" class=\"dataframe\">\n",
       "  <thead>\n",
       "    <tr style=\"text-align: right;\">\n",
       "      <th></th>\n",
       "      <th>Datetime</th>\n",
       "      <th>Resolution code</th>\n",
       "      <th>Total Load</th>\n",
       "      <th>Most recent forecast</th>\n",
       "      <th>Most recent P10</th>\n",
       "      <th>Most recent P90</th>\n",
       "      <th>Day-ahead 6PM forecast</th>\n",
       "      <th>Day-ahead 6PM P10</th>\n",
       "      <th>Day-ahead 6PM P90</th>\n",
       "      <th>Week-ahead forecast</th>\n",
       "      <th>Year</th>\n",
       "      <th>Month</th>\n",
       "      <th>Day</th>\n",
       "      <th>Hour</th>\n",
       "      <th>Minute</th>\n",
       "      <th>Season</th>\n",
       "      <th>Lockdown</th>\n",
       "      <th>Difference with previous load</th>\n",
       "    </tr>\n",
       "  </thead>\n",
       "  <tbody>\n",
       "    <tr>\n",
       "      <th>0</th>\n",
       "      <td>2014-12-31 23:00:00+00:00</td>\n",
       "      <td>PT15M</td>\n",
       "      <td>10142.19</td>\n",
       "      <td>9496.05</td>\n",
       "      <td>8871.71</td>\n",
       "      <td>10120.38</td>\n",
       "      <td>9697.59</td>\n",
       "      <td>9076.64</td>\n",
       "      <td>10318.53</td>\n",
       "      <td>9833.37</td>\n",
       "      <td>2014</td>\n",
       "      <td>12</td>\n",
       "      <td>31</td>\n",
       "      <td>23</td>\n",
       "      <td>0</td>\n",
       "      <td>3</td>\n",
       "      <td>0</td>\n",
       "      <td>0.00</td>\n",
       "    </tr>\n",
       "    <tr>\n",
       "      <th>1</th>\n",
       "      <td>2014-12-31 23:15:00+00:00</td>\n",
       "      <td>PT15M</td>\n",
       "      <td>10051.28</td>\n",
       "      <td>9329.17</td>\n",
       "      <td>8715.80</td>\n",
       "      <td>9942.53</td>\n",
       "      <td>9526.54</td>\n",
       "      <td>8916.55</td>\n",
       "      <td>10136.53</td>\n",
       "      <td>9653.31</td>\n",
       "      <td>2014</td>\n",
       "      <td>12</td>\n",
       "      <td>31</td>\n",
       "      <td>23</td>\n",
       "      <td>15</td>\n",
       "      <td>3</td>\n",
       "      <td>0</td>\n",
       "      <td>-90.91</td>\n",
       "    </tr>\n",
       "    <tr>\n",
       "      <th>2</th>\n",
       "      <td>2014-12-31 23:30:00+00:00</td>\n",
       "      <td>PT15M</td>\n",
       "      <td>9952.87</td>\n",
       "      <td>9174.72</td>\n",
       "      <td>8571.51</td>\n",
       "      <td>9777.92</td>\n",
       "      <td>9367.66</td>\n",
       "      <td>8767.84</td>\n",
       "      <td>9967.47</td>\n",
       "      <td>9473.22</td>\n",
       "      <td>2014</td>\n",
       "      <td>12</td>\n",
       "      <td>31</td>\n",
       "      <td>23</td>\n",
       "      <td>30</td>\n",
       "      <td>3</td>\n",
       "      <td>0</td>\n",
       "      <td>-98.41</td>\n",
       "    </tr>\n",
       "    <tr>\n",
       "      <th>3</th>\n",
       "      <td>2014-12-31 23:45:00+00:00</td>\n",
       "      <td>PT15M</td>\n",
       "      <td>9821.78</td>\n",
       "      <td>9025.46</td>\n",
       "      <td>8432.07</td>\n",
       "      <td>9618.85</td>\n",
       "      <td>9216.09</td>\n",
       "      <td>8625.97</td>\n",
       "      <td>9806.20</td>\n",
       "      <td>9319.45</td>\n",
       "      <td>2014</td>\n",
       "      <td>12</td>\n",
       "      <td>31</td>\n",
       "      <td>23</td>\n",
       "      <td>45</td>\n",
       "      <td>3</td>\n",
       "      <td>0</td>\n",
       "      <td>-131.09</td>\n",
       "    </tr>\n",
       "    <tr>\n",
       "      <th>4</th>\n",
       "      <td>2015-01-01 00:00:00+00:00</td>\n",
       "      <td>PT15M</td>\n",
       "      <td>9755.00</td>\n",
       "      <td>9222.33</td>\n",
       "      <td>8880.23</td>\n",
       "      <td>9564.44</td>\n",
       "      <td>10130.36</td>\n",
       "      <td>9777.87</td>\n",
       "      <td>10482.86</td>\n",
       "      <td>9203.25</td>\n",
       "      <td>2015</td>\n",
       "      <td>1</td>\n",
       "      <td>1</td>\n",
       "      <td>0</td>\n",
       "      <td>0</td>\n",
       "      <td>0</td>\n",
       "      <td>0</td>\n",
       "      <td>-66.78</td>\n",
       "    </tr>\n",
       "  </tbody>\n",
       "</table>\n",
       "</div>"
      ],
      "text/plain": [
       "                   Datetime Resolution code  Total Load  Most recent forecast  \\\n",
       "0 2014-12-31 23:00:00+00:00           PT15M    10142.19               9496.05   \n",
       "1 2014-12-31 23:15:00+00:00           PT15M    10051.28               9329.17   \n",
       "2 2014-12-31 23:30:00+00:00           PT15M     9952.87               9174.72   \n",
       "3 2014-12-31 23:45:00+00:00           PT15M     9821.78               9025.46   \n",
       "4 2015-01-01 00:00:00+00:00           PT15M     9755.00               9222.33   \n",
       "\n",
       "   Most recent P10  Most recent P90  Day-ahead 6PM forecast  \\\n",
       "0          8871.71         10120.38                 9697.59   \n",
       "1          8715.80          9942.53                 9526.54   \n",
       "2          8571.51          9777.92                 9367.66   \n",
       "3          8432.07          9618.85                 9216.09   \n",
       "4          8880.23          9564.44                10130.36   \n",
       "\n",
       "   Day-ahead 6PM P10  Day-ahead 6PM P90  Week-ahead forecast  Year  Month  \\\n",
       "0            9076.64           10318.53              9833.37  2014     12   \n",
       "1            8916.55           10136.53              9653.31  2014     12   \n",
       "2            8767.84            9967.47              9473.22  2014     12   \n",
       "3            8625.97            9806.20              9319.45  2014     12   \n",
       "4            9777.87           10482.86              9203.25  2015      1   \n",
       "\n",
       "   Day  Hour  Minute  Season  Lockdown  Difference with previous load  \n",
       "0   31    23       0       3         0                           0.00  \n",
       "1   31    23      15       3         0                         -90.91  \n",
       "2   31    23      30       3         0                         -98.41  \n",
       "3   31    23      45       3         0                        -131.09  \n",
       "4    1     0       0       0         0                         -66.78  "
      ]
     },
     "execution_count": 45,
     "metadata": {},
     "output_type": "execute_result"
    }
   ],
   "source": [
    "data.head()"
   ]
  },
  {
   "cell_type": "code",
   "execution_count": 46,
   "id": "79b133cf-6f64-44e7-8b51-39bd583d88c8",
   "metadata": {},
   "outputs": [],
   "source": [
    "data.to_csv(\"Processed_data.csv\")"
   ]
  }
 ],
 "metadata": {
  "kernelspec": {
   "display_name": "Python 3 (ipykernel)",
   "language": "python",
   "name": "python3"
  },
  "language_info": {
   "codemirror_mode": {
    "name": "ipython",
    "version": 3
   },
   "file_extension": ".py",
   "mimetype": "text/x-python",
   "name": "python",
   "nbconvert_exporter": "python",
   "pygments_lexer": "ipython3",
   "version": "3.11.6"
  }
 },
 "nbformat": 4,
 "nbformat_minor": 5
}
