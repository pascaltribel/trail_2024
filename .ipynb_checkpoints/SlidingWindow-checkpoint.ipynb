{
 "cells": [
  {
   "cell_type": "code",
   "execution_count": 317,
   "id": "fb885443-eac6-4956-965b-91ebc4124e49",
   "metadata": {},
   "outputs": [],
   "source": [
    "import matplotlib.pyplot as plt\n",
    "import seaborn as sns\n",
    "import numpy as np\n",
    "import pandas as pd\n",
    "import scipy\n",
    "import sktime\n",
    "from datetime import datetime\n",
    "from sktime.forecasting.base import ForecastingHorizon\n",
    "from sktime.forecasting.model_selection import SlidingWindowSplitter\n",
    "from sktime.utils.plotting import plot_series\n",
    "import sklearn\n",
    "from sklearn.metrics import mean_absolute_percentage_error, mean_absolute_error, mean_squared_error, root_mean_squared_error\n",
    "from sklearn.ensemble import RandomForestRegressor\n",
    "from sklearn.model_selection import train_test_split"
   ]
  },
  {
   "cell_type": "code",
   "execution_count": 356,
   "id": "a39a83e6-0007-4cb6-abbd-b05ed12d1918",
   "metadata": {},
   "outputs": [],
   "source": [
    "def get_windows(y, cv, shift):\n",
    "    train_windows = []\n",
    "    test_windows = []\n",
    "    for i, (train, test) in enumerate(cv.split(y)):\n",
    "        if not (i%shift):\n",
    "            train_windows.append(y[train])\n",
    "            test_windows.append(y[test])\n",
    "    return train_windows, test_windows"
   ]
  },
  {
   "cell_type": "code",
   "execution_count": 357,
   "id": "33a2ed8f-7e1e-4e6a-abed-d7c022b6bf9b",
   "metadata": {},
   "outputs": [],
   "source": [
    "data = pd.read_csv(\"Processed_data.csv\")[int(-24*4*365*1.5):].reset_index()"
   ]
  },
  {
   "cell_type": "code",
   "execution_count": 371,
   "id": "0dfe8094-cb81-4361-82d5-cb671d195867",
   "metadata": {},
   "outputs": [],
   "source": [
    "window_length = 12\n",
    "horizon = 4\n",
    "fh = ForecastingHorizon(list(range(1, horizon+1)))\n",
    "cv = SlidingWindowSplitter(window_length=window_length, fh=fh)\n",
    "n_splits = cv.get_n_splits(data[\"Total Load Interpolated\"])"
   ]
  },
  {
   "cell_type": "code",
   "execution_count": 372,
   "id": "8f418ecd-c11d-4f69-b1af-dd1e0fe62408",
   "metadata": {},
   "outputs": [],
   "source": [
    "x, y = get_windows(data[\"Total Load Interpolated\"], cv, window_length)"
   ]
  },
  {
   "cell_type": "code",
   "execution_count": 373,
   "id": "dddf1bd2-a3c5-47d9-9d73-43a81ed20c1c",
   "metadata": {},
   "outputs": [],
   "source": [
    "X_train, X_test, Y_train, Y_test = train_test_split(x, y, test_size=0.2, shuffle=False)\n",
    "X_train, X_test, Y_train, Y_test = np.array(X_train), np.array(X_test), np.array(Y_train), np.array(Y_test)"
   ]
  },
  {
   "cell_type": "code",
   "execution_count": 384,
   "id": "ba99b01e-4edb-4602-aecf-6523bb25e4b9",
   "metadata": {},
   "outputs": [],
   "source": [
    "def err(Y_test, y_hat, horizon):\n",
    "    errors = pd.DataFrame()\n",
    "    errors[\"RMSE\"] = [root_mean_squared_error(Y_test[:, i], y_hat[:, i]) for i in range(horizon)]\n",
    "    errors[\"MAPE\"] = [mean_absolute_percentage_error(Y_test[:, i], y_hat[:, i]) for i in range(horizon)]\n",
    "    errors[\"MAE\"] = [mean_absolute_error(Y_test[:, i], y_hat[:, i]) for i in range(horizon)]\n",
    "    errors[\"MSE\"] = [mean_squared_error(Y_test[:, i], y_hat[:, i]) for i in range(horizon)]\n",
    "    return errors.T"
   ]
  },
  {
   "cell_type": "code",
   "execution_count": 385,
   "id": "7bf07a69-204c-4259-b896-20c5d6dec46c",
   "metadata": {},
   "outputs": [
    {
     "data": {
      "text/html": [
       "<div>\n",
       "<style scoped>\n",
       "    .dataframe tbody tr th:only-of-type {\n",
       "        vertical-align: middle;\n",
       "    }\n",
       "\n",
       "    .dataframe tbody tr th {\n",
       "        vertical-align: top;\n",
       "    }\n",
       "\n",
       "    .dataframe thead th {\n",
       "        text-align: right;\n",
       "    }\n",
       "</style>\n",
       "<table border=\"1\" class=\"dataframe\">\n",
       "  <thead>\n",
       "    <tr style=\"text-align: right;\">\n",
       "      <th></th>\n",
       "      <th>0</th>\n",
       "      <th>1</th>\n",
       "      <th>2</th>\n",
       "      <th>3</th>\n",
       "    </tr>\n",
       "  </thead>\n",
       "  <tbody>\n",
       "    <tr>\n",
       "      <th>RMSE</th>\n",
       "      <td>77.382282</td>\n",
       "      <td>130.688577</td>\n",
       "      <td>186.996467</td>\n",
       "      <td>243.900698</td>\n",
       "    </tr>\n",
       "    <tr>\n",
       "      <th>MAPE</th>\n",
       "      <td>0.007278</td>\n",
       "      <td>0.012388</td>\n",
       "      <td>0.017340</td>\n",
       "      <td>0.022450</td>\n",
       "    </tr>\n",
       "    <tr>\n",
       "      <th>MAE</th>\n",
       "      <td>61.593139</td>\n",
       "      <td>104.692505</td>\n",
       "      <td>146.662238</td>\n",
       "      <td>190.722694</td>\n",
       "    </tr>\n",
       "    <tr>\n",
       "      <th>MSE</th>\n",
       "      <td>5988.017569</td>\n",
       "      <td>17079.504158</td>\n",
       "      <td>34967.678609</td>\n",
       "      <td>59487.550311</td>\n",
       "    </tr>\n",
       "  </tbody>\n",
       "</table>\n",
       "</div>"
      ],
      "text/plain": [
       "                0             1             2             3\n",
       "RMSE    77.382282    130.688577    186.996467    243.900698\n",
       "MAPE     0.007278      0.012388      0.017340      0.022450\n",
       "MAE     61.593139    104.692505    146.662238    190.722694\n",
       "MSE   5988.017569  17079.504158  34967.678609  59487.550311"
      ]
     },
     "execution_count": 385,
     "metadata": {},
     "output_type": "execute_result"
    }
   ],
   "source": [
    "tree = RandomForestRegressor(n_jobs=-1)\n",
    "tree = tree.fit(X_train, Y_train)\n",
    "y_hat = tree.predict(X_test)\n",
    "err(Y_test, y_hat, horizon)"
   ]
  },
  {
   "cell_type": "markdown",
   "id": "59abbc89-b462-4fe6-b114-ee1928d2adc4",
   "metadata": {},
   "source": [
    "<b>On the STL residuals, use RF to see if there is any signal.</b>"
   ]
  },
  {
   "cell_type": "code",
   "execution_count": 386,
   "id": "c1afd21e-5b84-49d9-9518-41c342b8e85e",
   "metadata": {},
   "outputs": [
    {
     "data": {
      "text/html": [
       "<div>\n",
       "<style scoped>\n",
       "    .dataframe tbody tr th:only-of-type {\n",
       "        vertical-align: middle;\n",
       "    }\n",
       "\n",
       "    .dataframe tbody tr th {\n",
       "        vertical-align: top;\n",
       "    }\n",
       "\n",
       "    .dataframe thead th {\n",
       "        text-align: right;\n",
       "    }\n",
       "</style>\n",
       "<table border=\"1\" class=\"dataframe\">\n",
       "  <thead>\n",
       "    <tr style=\"text-align: right;\">\n",
       "      <th></th>\n",
       "      <th>0</th>\n",
       "      <th>1</th>\n",
       "      <th>2</th>\n",
       "      <th>3</th>\n",
       "    </tr>\n",
       "  </thead>\n",
       "  <tbody>\n",
       "    <tr>\n",
       "      <th>RMSE</th>\n",
       "      <td>72.674597</td>\n",
       "      <td>133.859624</td>\n",
       "      <td>196.525638</td>\n",
       "      <td>257.023989</td>\n",
       "    </tr>\n",
       "    <tr>\n",
       "      <th>MAPE</th>\n",
       "      <td>0.006835</td>\n",
       "      <td>0.012899</td>\n",
       "      <td>0.018677</td>\n",
       "      <td>0.024076</td>\n",
       "    </tr>\n",
       "    <tr>\n",
       "      <th>MAE</th>\n",
       "      <td>58.102365</td>\n",
       "      <td>108.765718</td>\n",
       "      <td>157.054191</td>\n",
       "      <td>202.924014</td>\n",
       "    </tr>\n",
       "    <tr>\n",
       "      <th>MSE</th>\n",
       "      <td>5281.597120</td>\n",
       "      <td>17918.398965</td>\n",
       "      <td>38622.326557</td>\n",
       "      <td>66061.330963</td>\n",
       "    </tr>\n",
       "  </tbody>\n",
       "</table>\n",
       "</div>"
      ],
      "text/plain": [
       "                0             1             2             3\n",
       "RMSE    72.674597    133.859624    196.525638    257.023989\n",
       "MAPE     0.006835      0.012899      0.018677      0.024076\n",
       "MAE     58.102365    108.765718    157.054191    202.924014\n",
       "MSE   5281.597120  17918.398965  38622.326557  66061.330963"
      ]
     },
     "execution_count": 386,
     "metadata": {},
     "output_type": "execute_result"
    }
   ],
   "source": [
    "from sklearn.linear_model import LinearRegression\n",
    "tree = LinearRegression(n_jobs=-1)\n",
    "tree = tree.fit(X_train, Y_train)\n",
    "y_hat = tree.predict(X_test)\n",
    "err(Y_test, y_hat, horizon)"
   ]
  },
  {
   "cell_type": "code",
   "execution_count": 387,
   "id": "69b8334c-dc03-4f96-8095-1d2a6cae2968",
   "metadata": {},
   "outputs": [
    {
     "data": {
      "text/html": [
       "<div>\n",
       "<style scoped>\n",
       "    .dataframe tbody tr th:only-of-type {\n",
       "        vertical-align: middle;\n",
       "    }\n",
       "\n",
       "    .dataframe tbody tr th {\n",
       "        vertical-align: top;\n",
       "    }\n",
       "\n",
       "    .dataframe thead th {\n",
       "        text-align: right;\n",
       "    }\n",
       "</style>\n",
       "<table border=\"1\" class=\"dataframe\">\n",
       "  <thead>\n",
       "    <tr style=\"text-align: right;\">\n",
       "      <th></th>\n",
       "      <th>0</th>\n",
       "      <th>1</th>\n",
       "      <th>2</th>\n",
       "      <th>3</th>\n",
       "    </tr>\n",
       "  </thead>\n",
       "  <tbody>\n",
       "    <tr>\n",
       "      <th>RMSE</th>\n",
       "      <td>72.681432</td>\n",
       "      <td>133.864478</td>\n",
       "      <td>196.530623</td>\n",
       "      <td>257.027198</td>\n",
       "    </tr>\n",
       "    <tr>\n",
       "      <th>MAPE</th>\n",
       "      <td>0.006836</td>\n",
       "      <td>0.012900</td>\n",
       "      <td>0.018677</td>\n",
       "      <td>0.024076</td>\n",
       "    </tr>\n",
       "    <tr>\n",
       "      <th>MAE</th>\n",
       "      <td>58.107886</td>\n",
       "      <td>108.769783</td>\n",
       "      <td>157.057471</td>\n",
       "      <td>202.928085</td>\n",
       "    </tr>\n",
       "    <tr>\n",
       "      <th>MSE</th>\n",
       "      <td>5282.590616</td>\n",
       "      <td>17919.698558</td>\n",
       "      <td>38624.285805</td>\n",
       "      <td>66062.980347</td>\n",
       "    </tr>\n",
       "  </tbody>\n",
       "</table>\n",
       "</div>"
      ],
      "text/plain": [
       "                0             1             2             3\n",
       "RMSE    72.681432    133.864478    196.530623    257.027198\n",
       "MAPE     0.006836      0.012900      0.018677      0.024076\n",
       "MAE     58.107886    108.769783    157.057471    202.928085\n",
       "MSE   5282.590616  17919.698558  38624.285805  66062.980347"
      ]
     },
     "execution_count": 387,
     "metadata": {},
     "output_type": "execute_result"
    }
   ],
   "source": [
    "from sklearn.linear_model import Ridge\n",
    "tree = Ridge(alpha=10000)\n",
    "tree = tree.fit(X_train, Y_train)\n",
    "y_hat = tree.predict(X_test)\n",
    "err(Y_test, y_hat, horizon)"
   ]
  },
  {
   "cell_type": "code",
   "execution_count": 388,
   "id": "ef8e7e2f-cca4-4967-9883-d6c9745c0b88",
   "metadata": {},
   "outputs": [
    {
     "data": {
      "text/html": [
       "<div>\n",
       "<style scoped>\n",
       "    .dataframe tbody tr th:only-of-type {\n",
       "        vertical-align: middle;\n",
       "    }\n",
       "\n",
       "    .dataframe tbody tr th {\n",
       "        vertical-align: top;\n",
       "    }\n",
       "\n",
       "    .dataframe thead th {\n",
       "        text-align: right;\n",
       "    }\n",
       "</style>\n",
       "<table border=\"1\" class=\"dataframe\">\n",
       "  <thead>\n",
       "    <tr style=\"text-align: right;\">\n",
       "      <th></th>\n",
       "      <th>0</th>\n",
       "      <th>1</th>\n",
       "      <th>2</th>\n",
       "      <th>3</th>\n",
       "    </tr>\n",
       "  </thead>\n",
       "  <tbody>\n",
       "    <tr>\n",
       "      <th>RMSE</th>\n",
       "      <td>72.674714</td>\n",
       "      <td>133.858477</td>\n",
       "      <td>196.524242</td>\n",
       "      <td>257.022489</td>\n",
       "    </tr>\n",
       "    <tr>\n",
       "      <th>MAPE</th>\n",
       "      <td>0.006835</td>\n",
       "      <td>0.012899</td>\n",
       "      <td>0.018677</td>\n",
       "      <td>0.024076</td>\n",
       "    </tr>\n",
       "    <tr>\n",
       "      <th>MAE</th>\n",
       "      <td>58.102777</td>\n",
       "      <td>108.765106</td>\n",
       "      <td>157.052777</td>\n",
       "      <td>202.923586</td>\n",
       "    </tr>\n",
       "    <tr>\n",
       "      <th>MSE</th>\n",
       "      <td>5281.614070</td>\n",
       "      <td>17918.091795</td>\n",
       "      <td>38621.777727</td>\n",
       "      <td>66060.560035</td>\n",
       "    </tr>\n",
       "  </tbody>\n",
       "</table>\n",
       "</div>"
      ],
      "text/plain": [
       "                0             1             2             3\n",
       "RMSE    72.674714    133.858477    196.524242    257.022489\n",
       "MAPE     0.006835      0.012899      0.018677      0.024076\n",
       "MAE     58.102777    108.765106    157.052777    202.923586\n",
       "MSE   5281.614070  17918.091795  38621.777727  66060.560035"
      ]
     },
     "execution_count": 388,
     "metadata": {},
     "output_type": "execute_result"
    }
   ],
   "source": [
    "from sklearn.linear_model import MultiTaskLasso\n",
    "tree = MultiTaskLasso(max_iter=10000)\n",
    "tree = tree.fit(X_train, Y_train)\n",
    "y_hat = tree.predict(X_test)\n",
    "err(Y_test, y_hat, horizon)"
   ]
  },
  {
   "cell_type": "markdown",
   "id": "b9fd0c1c-9294-4d34-b514-58c47331a836",
   "metadata": {},
   "source": [
    "Take the vector of the errors, compute the mean and autocorellation (-> 0 and higher possible)"
   ]
  },
  {
   "cell_type": "code",
   "execution_count": null,
   "id": "686e5210-1b29-4f0d-ab95-7c1f21fbf71a",
   "metadata": {},
   "outputs": [],
   "source": []
  }
 ],
 "metadata": {
  "kernelspec": {
   "display_name": "Python 3 (ipykernel)",
   "language": "python",
   "name": "python3"
  },
  "language_info": {
   "codemirror_mode": {
    "name": "ipython",
    "version": 3
   },
   "file_extension": ".py",
   "mimetype": "text/x-python",
   "name": "python",
   "nbconvert_exporter": "python",
   "pygments_lexer": "ipython3",
   "version": "3.11.6"
  }
 },
 "nbformat": 4,
 "nbformat_minor": 5
}
