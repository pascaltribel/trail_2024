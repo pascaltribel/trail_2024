{
 "cells": [
  {
   "cell_type": "markdown",
   "id": "0a7634a8-fcd3-444b-bd39-c6c3a4c8c9dd",
   "metadata": {},
   "source": [
    "## Data preprocessing, analysis and plotting"
   ]
  },
  {
   "cell_type": "code",
   "execution_count": 1,
   "id": "54996667-8a00-4213-a597-1c528d73258b",
   "metadata": {},
   "outputs": [],
   "source": [
    "import matplotlib.pyplot as plt\n",
    "import numpy as np\n",
    "import pandas as pd\n",
    "import sktime"
   ]
  },
  {
   "cell_type": "code",
   "execution_count": 4,
   "id": "6e419373-5504-4581-a04a-4742ee99ce70",
   "metadata": {},
   "outputs": [],
   "source": [
    "data = pd.read_csv(\"Data/Belgium/NSIDE/CompleteDataBE/ods001.csv\")"
   ]
  },
  {
   "cell_type": "code",
   "execution_count": null,
   "id": "a8a1f910-f23f-427a-b271-5423f5c5ad20",
   "metadata": {},
   "outputs": [],
   "source": []
  }
 ],
 "metadata": {
  "kernelspec": {
   "display_name": "Python 3 (ipykernel)",
   "language": "python",
   "name": "python3"
  },
  "language_info": {
   "codemirror_mode": {
    "name": "ipython",
    "version": 3
   },
   "file_extension": ".py",
   "mimetype": "text/x-python",
   "name": "python",
   "nbconvert_exporter": "python",
   "pygments_lexer": "ipython3",
   "version": "3.11.6"
  }
 },
 "nbformat": 4,
 "nbformat_minor": 5
}
